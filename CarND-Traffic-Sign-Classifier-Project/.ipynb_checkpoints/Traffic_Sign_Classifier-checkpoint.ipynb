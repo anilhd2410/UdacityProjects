{
 "cells": [
  {
   "cell_type": "markdown",
   "metadata": {},
   "source": [
    "# Self-Driving Car Engineer Nanodegree\n",
    "\n",
    "## Deep Learning\n",
    "\n",
    "## Project: Build a Traffic Sign Recognition Classifier\n",
    "\n",
    "In this notebook, a template is provided for you to implement your functionality in stages, which is required to successfully complete this project. If additional code is required that cannot be included in the notebook, be sure that the Python code is successfully imported and included in your submission if necessary. \n",
    "\n",
    "> **Note**: Once you have completed all of the code implementations, you need to finalize your work by exporting the iPython Notebook as an HTML document. Before exporting the notebook to html, all of the code cells need to have been run so that reviewers can see the final implementation and output. You can then export the notebook by using the menu above and navigating to  \\n\",\n",
    "    \"**File -> Download as -> HTML (.html)**. Include the finished document along with this notebook as your submission. \n",
    "\n",
    "In addition to implementing code, there is a writeup to complete. The writeup should be completed in a separate file, which can be either a markdown file or a pdf document. There is a [write up template](https://github.com/udacity/CarND-Traffic-Sign-Classifier-Project/blob/master/writeup_template.md) that can be used to guide the writing process. Completing the code template and writeup template will cover all of the [rubric points](https://review.udacity.com/#!/rubrics/481/view) for this project.\n",
    "\n",
    "The [rubric](https://review.udacity.com/#!/rubrics/481/view) contains \"Stand Out Suggestions\" for enhancing the project beyond the minimum requirements. The stand out suggestions are optional. If you decide to pursue the \"stand out suggestions\", you can include the code in this Ipython notebook and also discuss the results in the writeup file.\n",
    "\n",
    "\n",
    ">**Note:** Code and Markdown cells can be executed using the **Shift + Enter** keyboard shortcut. In addition, Markdown cells can be edited by typically double-clicking the cell to enter edit mode."
   ]
  },
  {
   "cell_type": "markdown",
   "metadata": {},
   "source": [
    "---\n",
    "## Step 0: Load The Data"
   ]
  },
  {
   "cell_type": "code",
   "execution_count": 1,
   "metadata": {
    "collapsed": false
   },
   "outputs": [],
   "source": [
    "# Load pickled data\n",
    "import pickle\n",
    "\n",
    "# TODO: Fill this in based on where you saved the training and testing data\n",
    "\n",
    "training_file = \"data/test.p\"\n",
    "validation_file= \"data/valid.p\"\n",
    "testing_file = \"data/train.p\"\n",
    "\n",
    "with open(training_file, mode='rb') as f:\n",
    "    train = pickle.load(f)\n",
    "with open(validation_file, mode='rb') as f:\n",
    "    valid = pickle.load(f)\n",
    "with open(testing_file, mode='rb') as f:\n",
    "    test = pickle.load(f)\n",
    "    \n",
    "X_train, y_train = train['features'], train['labels']\n",
    "X_valid, y_valid = valid['features'], valid['labels']\n",
    "X_test, y_test = test['features'], test['labels']"
   ]
  },
  {
   "cell_type": "markdown",
   "metadata": {},
   "source": [
    "---\n",
    "\n",
    "## Step 1: Dataset Summary & Exploration\n",
    "\n",
    "The pickled data is a dictionary with 4 key/value pairs:\n",
    "\n",
    "- `'features'` is a 4D array containing raw pixel data of the traffic sign images, (num examples, width, height, channels).\n",
    "- `'labels'` is a 1D array containing the label/class id of the traffic sign. The file `signnames.csv` contains id -> name mappings for each id.\n",
    "- `'sizes'` is a list containing tuples, (width, height) representing the original width and height the image.\n",
    "- `'coords'` is a list containing tuples, (x1, y1, x2, y2) representing coordinates of a bounding box around the sign in the image. **THESE COORDINATES ASSUME THE ORIGINAL IMAGE. THE PICKLED DATA CONTAINS RESIZED VERSIONS (32 by 32) OF THESE IMAGES**\n",
    "\n",
    "Complete the basic data summary below. Use python, numpy and/or pandas methods to calculate the data summary rather than hard coding the results. For example, the [pandas shape method](http://pandas.pydata.org/pandas-docs/stable/generated/pandas.DataFrame.shape.html) might be useful for calculating some of the summary results. "
   ]
  },
  {
   "cell_type": "markdown",
   "metadata": {},
   "source": [
    "### Provide a Basic Summary of the Data Set Using Python, Numpy and/or Pandas"
   ]
  },
  {
   "cell_type": "code",
   "execution_count": 234,
   "metadata": {
    "collapsed": false
   },
   "outputs": [
    {
     "name": "stdout",
     "output_type": "stream",
     "text": [
      "Number of training examples = 12630\n",
      "Number of testing examples = 34799\n",
      "Number of validation examples = 4410\n",
      "Image data shape = (32, 32, 3)\n",
      "Number of classes = 43\n"
     ]
    }
   ],
   "source": [
    "### Replace each question mark with the appropriate value. \n",
    "### Use python, pandas or numpy methods rather than hard coding the results\n",
    "import numpy as np\n",
    "\n",
    "# TODO: Number of training examples\n",
    "n_train = len(X_train)\n",
    "\n",
    "# TODO: Number of testing examples.\n",
    "n_test = len(X_test)\n",
    "\n",
    "# Number of validation examplese\n",
    "n_valid = len(X_valid)\n",
    "\n",
    "# TODO: What's the shape of an traffic sign image?\n",
    "image_shape = X_train[0].shape\n",
    "\n",
    "# TODO: How many unique classes/labels there are in the dataset.\n",
    "n_classes = len(np.unique(y_train))\n",
    "\n",
    "print(\"Number of training examples =\", n_train)\n",
    "print(\"Number of testing examples =\", n_test)\n",
    "print(\"Number of validation examples =\",n_valid)\n",
    "print(\"Image data shape =\", image_shape)\n",
    "print(\"Number of classes =\", n_classes)"
   ]
  },
  {
   "cell_type": "markdown",
   "metadata": {},
   "source": [
    "### Include an exploratory visualization of the dataset"
   ]
  },
  {
   "cell_type": "markdown",
   "metadata": {},
   "source": [
    "Visualize the German Traffic Signs Dataset using the pickled file(s). This is open ended, suggestions include: plotting traffic sign images, plotting the count of each sign, etc.\n",
    "\n",
    "The [Matplotlib](http://matplotlib.org/) [examples](http://matplotlib.org/examples/index.html) and [gallery](http://matplotlib.org/gallery.html) pages are a great resource for doing visualizations in Python.\n",
    "\n",
    "**NOTE:** It's recommended you start with something simple first. If you wish to do more, come back to it after you've completed the rest of the sections."
   ]
  },
  {
   "cell_type": "code",
   "execution_count": 3,
   "metadata": {
    "collapsed": false
   },
   "outputs": [
    {
     "name": "stdout",
     "output_type": "stream",
     "text": [
      "18\n"
     ]
    },
    {
     "data": {
      "image/png": "[encoded data removed]",
      "text/plain": [
       "<matplotlib.figure.Figure at 0x7fe89e7ca080>"
      ]
     },
     "metadata": {},
     "output_type": "display_data"
    }
   ],
   "source": [
    "### Data exploration visualization code goes here.\n",
    "### Feel free to use as many code cells as needed.\n",
    "import matplotlib.pyplot as plt\n",
    "import random\n",
    "# Visualizations will be shown in the notebook.\n",
    "%matplotlib inline\n",
    "\n",
    "index = random.randint(0, len(X_train))\n",
    "image = X_train[index].squeeze()\n",
    "\n",
    "plt.figure(figsize=(2,2))\n",
    "plt.imshow(image, )\n",
    "print(y_train[index])"
   ]
  },
  {
   "cell_type": "markdown",
   "metadata": {},
   "source": [
    "----\n",
    "\n",
    "## Step 2: Design and Test a Model Architecture\n",
    "\n",
    "Design and implement a deep learning model that learns to recognize traffic signs. Train and test your model on the [German Traffic Sign Dataset](http://benchmark.ini.rub.de/?section=gtsrb&subsection=dataset).\n",
    "\n",
    "The LeNet-5 implementation shown in the [classroom](https://classroom.udacity.com/nanodegrees/nd013/parts/fbf77062-5703-404e-b60c-95b78b2f3f9e/modules/6df7ae49-c61c-4bb2-a23e-6527e69209ec/lessons/601ae704-1035-4287-8b11-e2c2716217ad/concepts/d4aca031-508f-4e0b-b493-e7b706120f81) at the end of the CNN lesson is a solid starting point. You'll have to change the number of classes and possibly the preprocessing, but aside from that it's plug and play! \n",
    "\n",
    "With the LeNet-5 solution from the lecture, you should expect a validation set accuracy of about 0.89. To meet specifications, the validation set accuracy will need to be at least 0.93. It is possible to get an even higher accuracy, but 0.93 is the minimum for a successful project submission. \n",
    "\n",
    "There are various aspects to consider when thinking about this problem:\n",
    "\n",
    "- Neural network architecture (is the network over or underfitting?)\n",
    "- Play around preprocessing techniques (normalization, rgb to grayscale, etc)\n",
    "- Number of examples per label (some have more than others).\n",
    "- Generate fake data.\n",
    "\n",
    "Here is an example of a [published baseline model on this problem](http://yann.lecun.com/exdb/publis/pdf/sermanet-ijcnn-11.pdf). It's not required to be familiar with the approach used in the paper but, it's good practice to try to read papers like these."
   ]
  },
  {
   "cell_type": "markdown",
   "metadata": {},
   "source": [
    "### Pre-process the Data Set (normalization, grayscale, etc.)"
   ]
  },
  {
   "cell_type": "markdown",
   "metadata": {},
   "source": [
    "Use the code cell (or multiple code cells, if necessary) to implement the first step of your project."
   ]
  },
  {
   "cell_type": "code",
   "execution_count": 4,
   "metadata": {
    "collapsed": false
   },
   "outputs": [],
   "source": [
    "### Preprocess the data here. Preprocessing steps could include normalization, converting to grayscale, etc.\n",
    "### Feel free to use as many code cells as needed.\n",
    "from sklearn.utils import shuffle\n",
    "\n",
    "X_train, y_train = shuffle(X_train, y_train)\n"
   ]
  },
  {
   "cell_type": "markdown",
   "metadata": {},
   "source": [
    "### Model Architecture"
   ]
  },
  {
   "cell_type": "code",
   "execution_count": 368,
   "metadata": {
    "collapsed": false
   },
   "outputs": [],
   "source": [
    "### Define your architecture here.\n",
    "### Feel free to use as many code cells as needed.\n",
    "\n",
    "import tensorflow as tf\n",
    "\n",
    "EPOCHS = 100\n",
    "BATCH_SIZE = 128\n",
    "\n",
    "from tensorflow.contrib.layers import flatten\n",
    "\n",
    "def LeNet(x):    \n",
    "    # Arguments used for tf.truncated_normal, randomly defines variables for the weights and biases for each layer\n",
    "    mu = 0\n",
    "    sigma = 0.05\n",
    "    \n",
    "\n",
    "   \n",
    "    #x = tf.map_fn(lambda img: tf.image.random_flip_up_down(img), x)\n",
    "    x = tf.map_fn(lambda img: tf.image.random_brightness(img, max_delta=0.2, seed=42), x)\n",
    "    #x = tf.map_fn(lambda img: tf.image.random_contrast(img, lower=0.2, upper=1.8, seed=43), x)\n",
    "\n",
    "    #x = tf.map_fn(lambda img: tf.minimum(img, 1.0), x)\n",
    "    #x = tf.map_fn(lambda img: tf.maximum(img, 0.0), x)\n",
    "    x = tf.map_fn(lambda img:  tf.image.per_image_standardization(img),x)\n",
    "    x = tf.image.rgb_to_grayscale(x)\n",
    "   \n",
    "      \n",
    "   \n",
    "    L1w = tf.Variable(tf.truncated_normal(shape=(5, 5, 1, 6), mean = mu, stddev = sigma))\n",
    "    L1b = tf.Variable(tf.zeros(6))\n",
    "    # TODO: Layer 1: Convolutional. Input = 32x32x3. Output = 28x28x6.\n",
    "    L1 = tf.nn.conv2d(x, L1w, strides=[1,1,1,1], padding='VALID') + L1b\n",
    " \n",
    "    # TODO: Activation.\n",
    "    L1 = tf.nn.relu(L1)\n",
    "    \n",
    "    L1 = tf.nn.local_response_normalization(L1)\n",
    "    #L1 = tf.nn.dropout(L1,0.7)\n",
    "    \n",
    "    # TODO: Pooling. Input = 28x28x6. Output = 14x14x6.\n",
    "    \n",
    "    L1 = tf.nn.max_pool(L1,ksize=[1,2,2,1],strides=[1,2,2,1], padding = 'VALID')\n",
    "    \n",
    "    \n",
    "    \n",
    "    # TODO: Layer 2: Convolutional. Output = 10x10x16.\n",
    "    L2w = tf.Variable(tf.truncated_normal(shape=(5, 5, 6, 16), mean = mu, stddev = sigma))\n",
    "    L2b = tf.Variable(tf.zeros(16))\n",
    "    L2 = tf.nn.conv2d(L1, L2w, strides=[1,1,1,1], padding='VALID')\n",
    "    \n",
    "        \n",
    "    # TODO: Activation.\n",
    "    L2 = tf.nn.relu(L2)\n",
    "    \n",
    "    #L2 = tf.nn.dropout(L2,0.6)\n",
    "    L2 = tf.nn.local_response_normalization(L2)\n",
    "\n",
    "    # TODO: Pooling. Input = 10x10x16. Output = 5x5x16.\n",
    "    L2 = tf.nn.max_pool(L2,ksize=[1,2,2,1],strides=[1,2,2,1], padding = 'VALID')\n",
    "    \n",
    "         \n",
    "    # TODO: Flatten. Input = 5x5x16. Output = 400.\n",
    "    fL2 = flatten(L2)\n",
    "    \n",
    "    # TODO: Layer 3: Fully Connected. Input = 400. Output = 120.\n",
    "    Fc1w = tf.Variable(tf.truncated_normal(shape=(400, 120), mean = mu, stddev = sigma))\n",
    "    Fc1b = tf.Variable(tf.zeros(120))\n",
    "    Fc1 = tf.add(tf.matmul(fL2,Fc1w),Fc1b)\n",
    "    \n",
    "       # TODO: Activation.\n",
    "    Fc1 = tf.nn.relu(Fc1)\n",
    "    \n",
    "    #Fc1 = tf.nn.dropout(Fc1,0.5)\n",
    "\n",
    "    # TODO: Layer 4: Fully Connected. Input = 120. Output = 84.\n",
    "    Fc2w = tf.Variable(tf.truncated_normal(shape=(120, 84), mean = mu, stddev = sigma))\n",
    "    Fc2b = tf.Variable(tf.zeros(84))\n",
    "    Fc2 = tf.add(tf.matmul(Fc1,Fc2w),Fc2b)\n",
    "    \n",
    "    # TODO: Activation.\n",
    "    Fc2 = tf.nn.relu(Fc2)\n",
    "    \n",
    "    Fc2 = tf.nn.dropout(Fc2,0.7)\n",
    "    \n",
    "    # TODO: Layer 5: Fully Connected. Input = 84. Output = 10.\n",
    "    Fc3w = tf.Variable(tf.truncated_normal(shape=(84, 43), mean = mu, stddev = sigma))\n",
    "    Fc3b = tf.Variable(tf.zeros(43))\n",
    "    logits = tf.add(tf.matmul(Fc2,Fc3w),Fc3b)\n",
    "    \n",
    "    return logits"
   ]
  },
  {
   "cell_type": "code",
   "execution_count": 369,
   "metadata": {
    "collapsed": false
   },
   "outputs": [],
   "source": [
    "x = tf.placeholder(tf.float32, (None, 32, 32,3))\n",
    "y = tf.placeholder(tf.int32, (None))\n",
    "one_hot_y = tf.one_hot(y, 43)\n",
    "\n",
    "rate = 0.001\n",
    "\n",
    "mu = 0\n",
    "sigma = 0.05\n",
    "\n",
    "b1 = tf.Variable(tf.zeros(6))\n",
    "b2 = tf.Variable(tf.zeros(16))\n",
    "b3 = tf.Variable(tf.zeros(120))\n",
    "b4 = tf.Variable(tf.zeros(84))\n",
    "b5 = tf.Variable(tf.zeros(43))\n",
    "\n",
    "weights_1 = tf.Variable(tf.truncated_normal(shape=(5, 5, 1, 6), mean = mu, stddev = sigma))\n",
    "\n",
    "weights_2 = tf.Variable(tf.truncated_normal(shape=(5, 5, 6, 16), mean = mu, stddev = sigma))\n",
    "\n",
    "\n",
    "weights_3 = tf.Variable(tf.truncated_normal(shape=(400, 120), mean = mu, stddev = sigma))\n",
    "\n",
    "weights_4 = tf.Variable(tf.truncated_normal(shape=(120, 84), mean = mu, stddev = sigma))\n",
    "\n",
    "\n",
    "weights_5 = tf.Variable(tf.truncated_normal(shape=(84, 43), mean = mu, stddev = sigma))\n",
    "\n",
    "logits = LeNet(x)\n",
    "cross_entropy = tf.nn.softmax_cross_entropy_with_logits(logits=logits, labels=one_hot_y)\n",
    "loss_operation = tf.reduce_mean(cross_entropy)\n",
    "\n",
    " # Loss function using L2 Regularization\n",
    "regularizer = tf.nn.l2_loss(weights_1) + tf.nn.l2_loss(weights_2) + \\\n",
    "                   tf.nn.l2_loss(weights_3) + tf.nn.l2_loss(weights_4) + \\\n",
    "                   tf.nn.l2_loss(weights_5)  \n",
    "cost  = tf.reduce_mean(loss_operation + rate * regularizer)\n",
    "    \n",
    "optimizer = tf.train.AdamOptimizer(learning_rate = rate)\n",
    "training_operation = optimizer.minimize(cost)\n"
   ]
  },
  {
   "cell_type": "markdown",
   "metadata": {},
   "source": [
    "# Train, Validate and Test the Model"
   ]
  },
  {
   "cell_type": "markdown",
   "metadata": {},
   "source": [
    "A validation set can be used to assess how well the model is performing. A low accuracy on the training and validation\n",
    "sets imply underfitting. A high accuracy on the training set but low accuracy on the validation set implies overfitting."
   ]
  },
  {
   "cell_type": "code",
   "execution_count": null,
   "metadata": {
    "collapsed": false
   },
   "outputs": [],
   "source": [
    "correct_prediction = tf.equal(tf.argmax(logits, 1), tf.argmax(one_hot_y, 1))\n",
    "accuracy_operation = tf.reduce_mean(tf.cast(correct_prediction, tf.float32))\n",
    "\n",
    "cost = tf.reduce_mean(cross_entropy)\n",
    "\n",
    "y_true_cls = tf.argmax(one_hot_y, 1)\n",
    "y_pred = tf.nn.softmax(logits)\n",
    "y_pred_cls = tf.argmax(y_pred, 1)\n",
    "prediction = tf.equal(y_pred_cls, y_true_cls)\n",
    "accuracy = tf.reduce_mean(tf.cast(prediction, tf.float32))\n",
    "\n",
    "saver = tf.train.Saver()\n",
    "\n",
    "def evaluateAndPrint(X_vdata, y_vdata,X_tdata, y_tdata):\n",
    "    vnum_examples = len(X_vdata)\n",
    "    total_vaccuracy = 0\n",
    "    total_taccuracy = 0\n",
    "    total_loss = 0\n",
    "    sess = tf.get_default_session()\n",
    "    for offset in range(0, vnum_examples, BATCH_SIZE):\n",
    "        batch_x, batch_y = X_vdata[offset:offset+BATCH_SIZE], y_vdata[offset:offset+BATCH_SIZE]\n",
    "        val_loss  = sess.run(cost, feed_dict={x: batch_x, y: batch_y})\n",
    "        vaccuracy = sess.run(accuracy_operation, feed_dict={x: batch_x, y: batch_y})\n",
    "        total_vaccuracy += (vaccuracy * len(batch_x))\n",
    "        total_loss += val_loss\n",
    "     \n",
    "    tnum_examples = len(X_tdata)\n",
    "    sess = tf.get_default_session()\n",
    "    for offset in range(0, tnum_examples, BATCH_SIZE):\n",
    "        batch_x, batch_y = X_tdata[offset:offset+BATCH_SIZE], y_tdata[offset:offset+BATCH_SIZE]\n",
    "        test_loss  = sess.run(cost, feed_dict={x: batch_x, y: batch_y})\n",
    "        taccuracy = sess.run(accuracy_operation, feed_dict={x: batch_x, y: batch_y})\n",
    "        total_taccuracy += (taccuracy * len(batch_x))\n",
    "\n",
    "        \n",
    "    validation_accuracy = total_vaccuracy / vnum_examples\n",
    "    test_accuracy = total_taccuracy / tnum_examples\n",
    "    #print(\"EPOCH {} ...\".format(i+1))\n",
    "    #print(\"Test Accuracy = {:.3f}\".format(test_accuracy))\n",
    "    print(\"Validation Accuracy = {:.3f}\".format(validation_accuracy))\n",
    "    print(\"Test Loss = {:.3f}\".format(test_loss))\n",
    "    msg = \"Epoch {0} ... Training Accuracy: {1:>6.1%}, Validation Accuracy: {2:>6.1%}, Validation Loss: {3:.3f}\"\n",
    "    print(msg.format(i + 1, test_accuracy, validation_accuracy, val_loss))\n",
    "    print()"
   ]
  },
  {
   "cell_type": "code",
   "execution_count": null,
   "metadata": {
    "collapsed": false
   },
   "outputs": [
    {
     "name": "stdout",
     "output_type": "stream",
     "text": [
      "Training...\n",
      "\n",
      "Validation Accuracy = 0.162\n",
      "Test Loss = 3.004\n",
      "Epoch 1 ... Training Accuracy:  19.4%, Validation Accuracy:  16.2%, Validation Loss: 3.033\n",
      "\n",
      "Validation Accuracy = 0.495\n",
      "Test Loss = 1.259\n",
      "Epoch 2 ... Training Accuracy:  54.6%, Validation Accuracy:  49.5%, Validation Loss: 1.126\n",
      "\n",
      "Validation Accuracy = 0.668\n",
      "Test Loss = 0.981\n",
      "Epoch 3 ... Training Accuracy:  73.1%, Validation Accuracy:  66.8%, Validation Loss: 0.498\n",
      "\n",
      "Validation Accuracy = 0.745\n",
      "Test Loss = 0.878\n",
      "Epoch 4 ... Training Accuracy:  83.1%, Validation Accuracy:  74.5%, Validation Loss: 0.441\n",
      "\n",
      "Validation Accuracy = 0.788\n",
      "Test Loss = 0.310\n",
      "Epoch 5 ... Training Accuracy:  87.3%, Validation Accuracy:  78.8%, Validation Loss: 0.404\n",
      "\n",
      "Validation Accuracy = 0.803\n",
      "Test Loss = 0.394\n",
      "Epoch 6 ... Training Accuracy:  90.4%, Validation Accuracy:  80.3%, Validation Loss: 0.381\n",
      "\n",
      "Validation Accuracy = 0.829\n",
      "Test Loss = 0.348\n",
      "Epoch 7 ... Training Accuracy:  92.5%, Validation Accuracy:  82.9%, Validation Loss: 0.221\n",
      "\n",
      "Validation Accuracy = 0.827\n",
      "Test Loss = 0.315\n",
      "Epoch 8 ... Training Accuracy:  93.3%, Validation Accuracy:  82.7%, Validation Loss: 0.306\n",
      "\n",
      "Validation Accuracy = 0.839\n",
      "Test Loss = 0.103\n",
      "Epoch 9 ... Training Accuracy:  94.1%, Validation Accuracy:  83.9%, Validation Loss: 0.221\n",
      "\n",
      "Validation Accuracy = 0.854\n",
      "Test Loss = 0.307\n",
      "Epoch 10 ... Training Accuracy:  95.5%, Validation Accuracy:  85.4%, Validation Loss: 0.517\n",
      "\n",
      "Validation Accuracy = 0.862\n",
      "Test Loss = 0.109\n",
      "Epoch 11 ... Training Accuracy:  96.1%, Validation Accuracy:  86.2%, Validation Loss: 0.345\n",
      "\n",
      "Validation Accuracy = 0.866\n",
      "Test Loss = 0.165\n",
      "Epoch 12 ... Training Accuracy:  96.5%, Validation Accuracy:  86.6%, Validation Loss: 0.563\n",
      "\n",
      "Validation Accuracy = 0.868\n",
      "Test Loss = 0.108\n",
      "Epoch 13 ... Training Accuracy:  96.6%, Validation Accuracy:  86.8%, Validation Loss: 0.252\n",
      "\n",
      "Validation Accuracy = 0.864\n",
      "Test Loss = 0.163\n",
      "Epoch 14 ... Training Accuracy:  97.4%, Validation Accuracy:  86.4%, Validation Loss: 0.318\n",
      "\n",
      "Validation Accuracy = 0.872\n",
      "Test Loss = 0.090\n",
      "Epoch 15 ... Training Accuracy:  97.4%, Validation Accuracy:  87.2%, Validation Loss: 0.359\n",
      "\n",
      "Validation Accuracy = 0.871\n",
      "Test Loss = 0.112\n",
      "Epoch 16 ... Training Accuracy:  97.6%, Validation Accuracy:  87.1%, Validation Loss: 0.519\n",
      "\n",
      "Validation Accuracy = 0.882\n",
      "Test Loss = 0.107\n",
      "Epoch 17 ... Training Accuracy:  97.8%, Validation Accuracy:  88.2%, Validation Loss: 0.541\n",
      "\n",
      "Validation Accuracy = 0.873\n",
      "Test Loss = 0.021\n",
      "Epoch 18 ... Training Accuracy:  97.9%, Validation Accuracy:  87.3%, Validation Loss: 0.701\n",
      "\n",
      "Validation Accuracy = 0.885\n",
      "Test Loss = 0.051\n",
      "Epoch 19 ... Training Accuracy:  98.4%, Validation Accuracy:  88.5%, Validation Loss: 0.320\n",
      "\n",
      "Validation Accuracy = 0.880\n",
      "Test Loss = 0.053\n",
      "Epoch 20 ... Training Accuracy:  98.3%, Validation Accuracy:  88.0%, Validation Loss: 0.700\n",
      "\n",
      "Validation Accuracy = 0.881\n",
      "Test Loss = 0.039\n",
      "Epoch 21 ... Training Accuracy:  98.3%, Validation Accuracy:  88.1%, Validation Loss: 0.640\n",
      "\n",
      "Validation Accuracy = 0.883\n",
      "Test Loss = 0.040\n",
      "Epoch 22 ... Training Accuracy:  98.8%, Validation Accuracy:  88.3%, Validation Loss: 0.749\n",
      "\n",
      "Validation Accuracy = 0.885\n",
      "Test Loss = 0.033\n",
      "Epoch 23 ... Training Accuracy:  98.7%, Validation Accuracy:  88.5%, Validation Loss: 0.553\n",
      "\n",
      "Validation Accuracy = 0.876\n",
      "Test Loss = 0.061\n",
      "Epoch 24 ... Training Accuracy:  98.6%, Validation Accuracy:  87.6%, Validation Loss: 0.584\n",
      "\n",
      "Validation Accuracy = 0.880\n",
      "Test Loss = 0.020\n",
      "Epoch 25 ... Training Accuracy:  98.8%, Validation Accuracy:  88.0%, Validation Loss: 0.630\n",
      "\n",
      "Validation Accuracy = 0.878\n",
      "Test Loss = 0.021\n",
      "Epoch 26 ... Training Accuracy:  98.8%, Validation Accuracy:  87.8%, Validation Loss: 0.731\n",
      "\n",
      "Validation Accuracy = 0.883\n",
      "Test Loss = 0.015\n",
      "Epoch 27 ... Training Accuracy:  99.2%, Validation Accuracy:  88.3%, Validation Loss: 0.633\n",
      "\n",
      "Validation Accuracy = 0.884\n",
      "Test Loss = 0.027\n",
      "Epoch 28 ... Training Accuracy:  99.2%, Validation Accuracy:  88.4%, Validation Loss: 0.380\n",
      "\n",
      "Validation Accuracy = 0.877\n",
      "Test Loss = 0.009\n",
      "Epoch 29 ... Training Accuracy:  99.2%, Validation Accuracy:  87.7%, Validation Loss: 0.451\n",
      "\n",
      "Validation Accuracy = 0.883\n",
      "Test Loss = 0.011\n",
      "Epoch 30 ... Training Accuracy:  99.1%, Validation Accuracy:  88.3%, Validation Loss: 0.816\n",
      "\n",
      "Validation Accuracy = 0.883\n",
      "Test Loss = 0.040\n",
      "Epoch 31 ... Training Accuracy:  99.3%, Validation Accuracy:  88.3%, Validation Loss: 0.765\n",
      "\n",
      "Validation Accuracy = 0.882\n",
      "Test Loss = 0.064\n",
      "Epoch 32 ... Training Accuracy:  99.2%, Validation Accuracy:  88.2%, Validation Loss: 0.864\n",
      "\n",
      "Validation Accuracy = 0.893\n",
      "Test Loss = 0.040\n",
      "Epoch 33 ... Training Accuracy:  99.2%, Validation Accuracy:  89.3%, Validation Loss: 0.847\n",
      "\n",
      "Validation Accuracy = 0.878\n",
      "Test Loss = 0.059\n",
      "Epoch 34 ... Training Accuracy:  99.1%, Validation Accuracy:  87.8%, Validation Loss: 0.941\n",
      "\n",
      "Validation Accuracy = 0.884\n",
      "Test Loss = 0.016\n",
      "Epoch 35 ... Training Accuracy:  99.1%, Validation Accuracy:  88.4%, Validation Loss: 0.763\n",
      "\n",
      "Validation Accuracy = 0.891\n",
      "Test Loss = 0.019\n",
      "Epoch 36 ... Training Accuracy:  99.5%, Validation Accuracy:  89.1%, Validation Loss: 0.531\n",
      "\n",
      "Validation Accuracy = 0.885\n",
      "Test Loss = 0.029\n",
      "Epoch 37 ... Training Accuracy:  99.5%, Validation Accuracy:  88.5%, Validation Loss: 0.522\n",
      "\n",
      "Validation Accuracy = 0.890\n",
      "Test Loss = 0.015\n",
      "Epoch 38 ... Training Accuracy:  99.4%, Validation Accuracy:  89.0%, Validation Loss: 0.501\n",
      "\n",
      "Validation Accuracy = 0.883\n",
      "Test Loss = 0.020\n",
      "Epoch 39 ... Training Accuracy:  99.4%, Validation Accuracy:  88.3%, Validation Loss: 1.076\n",
      "\n",
      "Validation Accuracy = 0.881\n",
      "Test Loss = 0.014\n",
      "Epoch 40 ... Training Accuracy:  99.4%, Validation Accuracy:  88.1%, Validation Loss: 0.910\n",
      "\n",
      "Validation Accuracy = 0.893\n",
      "Test Loss = 0.005\n",
      "Epoch 41 ... Training Accuracy:  99.6%, Validation Accuracy:  89.3%, Validation Loss: 1.041\n",
      "\n",
      "Validation Accuracy = 0.885\n",
      "Test Loss = 0.010\n",
      "Epoch 42 ... Training Accuracy:  99.4%, Validation Accuracy:  88.5%, Validation Loss: 1.194\n",
      "\n",
      "Validation Accuracy = 0.879\n",
      "Test Loss = 0.011\n",
      "Epoch 43 ... Training Accuracy:  99.3%, Validation Accuracy:  87.9%, Validation Loss: 1.706\n",
      "\n",
      "Validation Accuracy = 0.879\n",
      "Test Loss = 0.020\n",
      "Epoch 44 ... Training Accuracy:  98.5%, Validation Accuracy:  87.9%, Validation Loss: 0.550\n",
      "\n",
      "Validation Accuracy = 0.896\n",
      "Test Loss = 0.014\n",
      "Epoch 45 ... Training Accuracy:  99.5%, Validation Accuracy:  89.6%, Validation Loss: 1.087\n",
      "\n",
      "Validation Accuracy = 0.895\n",
      "Test Loss = 0.021\n",
      "Epoch 46 ... Training Accuracy:  99.7%, Validation Accuracy:  89.5%, Validation Loss: 0.813\n",
      "\n",
      "Validation Accuracy = 0.895\n",
      "Test Loss = 0.003\n",
      "Epoch 47 ... Training Accuracy:  99.6%, Validation Accuracy:  89.5%, Validation Loss: 1.002\n",
      "\n",
      "Validation Accuracy = 0.894\n",
      "Test Loss = 0.026\n",
      "Epoch 48 ... Training Accuracy:  99.7%, Validation Accuracy:  89.4%, Validation Loss: 0.748\n",
      "\n",
      "Validation Accuracy = 0.892\n",
      "Test Loss = 0.003\n",
      "Epoch 49 ... Training Accuracy:  99.7%, Validation Accuracy:  89.2%, Validation Loss: 0.809\n",
      "\n"
     ]
    }
   ],
   "source": [
    "### Train your model here.\n",
    "### Calculate and report the accuracy on the training and validation set.\n",
    "### Once a final model architecture is selected, \n",
    "### the accuracy on the test set should be calculated and reported as well.\n",
    "### Feel free to use as many code cells as needed.\n",
    "\n",
    "with tf.Session() as sess:\n",
    "    sess.run(tf.global_variables_initializer())\n",
    "    num_examples = len(X_train)\n",
    "    \n",
    "    print(\"Training...\")\n",
    "    print()\n",
    "    for i in range(EPOCHS):\n",
    "        X_train, y_train = shuffle(X_train, y_train)\n",
    "        for offset in range(0, num_examples, BATCH_SIZE):\n",
    "            end = offset + BATCH_SIZE\n",
    "            batch_x, batch_y = X_train[offset:end], y_train[offset:end]\n",
    "            sess.run(training_operation, feed_dict={x: batch_x, y: batch_y})\n",
    "            \n",
    "        evaluateAndPrint(X_valid, y_valid,X_train,y_train)\n",
    "  \n",
    "    saver.save(sess, './lenet')\n",
    "    print(\"Model saved\")"
   ]
  },
  {
   "cell_type": "markdown",
   "metadata": {},
   "source": [
    "---\n",
    "\n",
    "## Step 3: Test a Model on New Images\n",
    "\n",
    "To give yourself more insight into how your model is working, download at least five pictures of German traffic signs from the web and use your model to predict the traffic sign type.\n",
    "\n",
    "You may find `signnames.csv` useful as it contains mappings from the class id (integer) to the actual sign name."
   ]
  },
  {
   "cell_type": "markdown",
   "metadata": {},
   "source": [
    "### Load and Output the Images"
   ]
  },
  {
   "cell_type": "code",
   "execution_count": null,
   "metadata": {
    "collapsed": true
   },
   "outputs": [],
   "source": [
    "### Load the images and plot them here.\n",
    "### Feel free to use as many code cells as needed."
   ]
  },
  {
   "cell_type": "markdown",
   "metadata": {},
   "source": [
    "### Predict the Sign Type for Each Image"
   ]
  },
  {
   "cell_type": "code",
   "execution_count": null,
   "metadata": {
    "collapsed": true
   },
   "outputs": [],
   "source": [
    "### Run the predictions here and use the model to output the prediction for each image.\n",
    "### Make sure to pre-process the images with the same pre-processing pipeline used earlier.\n",
    "### Feel free to use as many code cells as needed."
   ]
  },
  {
   "cell_type": "markdown",
   "metadata": {},
   "source": [
    "### Analyze Performance"
   ]
  },
  {
   "cell_type": "code",
   "execution_count": null,
   "metadata": {
    "collapsed": true
   },
   "outputs": [],
   "source": [
    "### Calculate the accuracy for these 5 new images. \n",
    "### For example, if the model predicted 1 out of 5 signs correctly, it's 20% accurate on these new images."
   ]
  },
  {
   "cell_type": "markdown",
   "metadata": {},
   "source": [
    "### Output Top 5 Softmax Probabilities For Each Image Found on the Web"
   ]
  },
  {
   "cell_type": "markdown",
   "metadata": {},
   "source": [
    "For each of the new images, print out the model's softmax probabilities to show the **certainty** of the model's predictions (limit the output to the top 5 probabilities for each image). [`tf.nn.top_k`](https://www.tensorflow.org/versions/r0.12/api_docs/python/nn.html#top_k) could prove helpful here. \n",
    "\n",
    "The example below demonstrates how tf.nn.top_k can be used to find the top k predictions for each image.\n",
    "\n",
    "`tf.nn.top_k` will return the values and indices (class ids) of the top k predictions. So if k=3, for each sign, it'll return the 3 largest probabilities (out of a possible 43) and the correspoding class ids.\n",
    "\n",
    "Take this numpy array as an example. The values in the array represent predictions. The array contains softmax probabilities for five candidate images with six possible classes. `tk.nn.top_k` is used to choose the three classes with the highest probability:\n",
    "\n",
    "```\n",
    "# (5, 6) array\n",
    "a = np.array([[ 0.24879643,  0.07032244,  0.12641572,  0.34763842,  0.07893497,\n",
    "         0.12789202],\n",
    "       [ 0.28086119,  0.27569815,  0.08594638,  0.0178669 ,  0.18063401,\n",
    "         0.15899337],\n",
    "       [ 0.26076848,  0.23664738,  0.08020603,  0.07001922,  0.1134371 ,\n",
    "         0.23892179],\n",
    "       [ 0.11943333,  0.29198961,  0.02605103,  0.26234032,  0.1351348 ,\n",
    "         0.16505091],\n",
    "       [ 0.09561176,  0.34396535,  0.0643941 ,  0.16240774,  0.24206137,\n",
    "         0.09155967]])\n",
    "```\n",
    "\n",
    "Running it through `sess.run(tf.nn.top_k(tf.constant(a), k=3))` produces:\n",
    "\n",
    "```\n",
    "TopKV2(values=array([[ 0.34763842,  0.24879643,  0.12789202],\n",
    "       [ 0.28086119,  0.27569815,  0.18063401],\n",
    "       [ 0.26076848,  0.23892179,  0.23664738],\n",
    "       [ 0.29198961,  0.26234032,  0.16505091],\n",
    "       [ 0.34396535,  0.24206137,  0.16240774]]), indices=array([[3, 0, 5],\n",
    "       [0, 1, 4],\n",
    "       [0, 5, 1],\n",
    "       [1, 3, 5],\n",
    "       [1, 4, 3]], dtype=int32))\n",
    "```\n",
    "\n",
    "Looking just at the first row we get `[ 0.34763842,  0.24879643,  0.12789202]`, you can confirm these are the 3 largest probabilities in `a`. You'll also notice `[3, 0, 5]` are the corresponding indices."
   ]
  },
  {
   "cell_type": "code",
   "execution_count": null,
   "metadata": {
    "collapsed": true
   },
   "outputs": [],
   "source": [
    "### Print out the top five softmax probabilities for the predictions on the German traffic sign images found on the web. \n",
    "### Feel free to use as many code cells as needed."
   ]
  },
  {
   "cell_type": "markdown",
   "metadata": {},
   "source": [
    "---\n",
    "\n",
    "## Step 4: Visualize the Neural Network's State with Test Images\n",
    "\n",
    " This Section is not required to complete but acts as an additional excersise for understaning the output of a neural network's weights. While neural networks can be a great learning device they are often referred to as a black box. We can understand what the weights of a neural network look like better by plotting their feature maps. After successfully training your neural network you can see what it's feature maps look like by plotting the output of the network's weight layers in response to a test stimuli image. From these plotted feature maps, it's possible to see what characteristics of an image the network finds interesting. For a sign, maybe the inner network feature maps react with high activation to the sign's boundary outline or to the contrast in the sign's painted symbol.\n",
    "\n",
    " Provided for you below is the function code that allows you to get the visualization output of any tensorflow weight layer you want. The inputs to the function should be a stimuli image, one used during training or a new one you provided, and then the tensorflow variable name that represents the layer's state during the training process, for instance if you wanted to see what the [LeNet lab's](https://classroom.udacity.com/nanodegrees/nd013/parts/fbf77062-5703-404e-b60c-95b78b2f3f9e/modules/6df7ae49-c61c-4bb2-a23e-6527e69209ec/lessons/601ae704-1035-4287-8b11-e2c2716217ad/concepts/d4aca031-508f-4e0b-b493-e7b706120f81) feature maps looked like for it's second convolutional layer you could enter conv2 as the tf_activation variable.\n",
    "\n",
    "For an example of what feature map outputs look like, check out NVIDIA's results in their paper [End-to-End Deep Learning for Self-Driving Cars](https://devblogs.nvidia.com/parallelforall/deep-learning-self-driving-cars/) in the section Visualization of internal CNN State. NVIDIA was able to show that their network's inner weights had high activations to road boundary lines by comparing feature maps from an image with a clear path to one without. Try experimenting with a similar test to show that your trained network's weights are looking for interesting features, whether it's looking at differences in feature maps from images with or without a sign, or even what feature maps look like in a trained network vs a completely untrained one on the same sign image.\n",
    "\n",
    "<figure>\n",
    " <img src=\"visualize_cnn.png\" width=\"380\" alt=\"Combined Image\" />\n",
    " <figcaption>\n",
    " <p></p> \n",
    " <p style=\"text-align: center;\"> Your output should look something like this (above)</p> \n",
    " </figcaption>\n",
    "</figure>\n",
    " <p></p> \n"
   ]
  },
  {
   "cell_type": "code",
   "execution_count": null,
   "metadata": {
    "collapsed": true
   },
   "outputs": [],
   "source": [
    "### Visualize your network's feature maps here.\n",
    "### Feel free to use as many code cells as needed.\n",
    "\n",
    "# image_input: the test image being fed into the network to produce the feature maps\n",
    "# tf_activation: should be a tf variable name used during your training procedure that represents the calculated state of a specific weight layer\n",
    "# activation_min/max: can be used to view the activation contrast in more detail, by default matplot sets min and max to the actual min and max values of the output\n",
    "# plt_num: used to plot out multiple different weight feature map sets on the same block, just extend the plt number for each new feature map entry\n",
    "\n",
    "def outputFeatureMap(image_input, tf_activation, activation_min=-1, activation_max=-1 ,plt_num=1):\n",
    "    # Here make sure to preprocess your image_input in a way your network expects\n",
    "    # with size, normalization, ect if needed\n",
    "    # image_input =\n",
    "    # Note: x should be the same name as your network's tensorflow data placeholder variable\n",
    "    # If you get an error tf_activation is not defined it maybe having trouble accessing the variable from inside a function\n",
    "    activation = tf_activation.eval(session=sess,feed_dict={x : image_input})\n",
    "    featuremaps = activation.shape[3]\n",
    "    plt.figure(plt_num, figsize=(15,15))\n",
    "    for featuremap in range(featuremaps):\n",
    "        plt.subplot(6,8, featuremap+1) # sets the number of feature maps to show on each row and column\n",
    "        plt.title('FeatureMap ' + str(featuremap)) # displays the feature map number\n",
    "        if activation_min != -1 & activation_max != -1:\n",
    "            plt.imshow(activation[0,:,:, featuremap], interpolation=\"nearest\", vmin =activation_min, vmax=activation_max, cmap=\"gray\")\n",
    "        elif activation_max != -1:\n",
    "            plt.imshow(activation[0,:,:, featuremap], interpolation=\"nearest\", vmax=activation_max, cmap=\"gray\")\n",
    "        elif activation_min !=-1:\n",
    "            plt.imshow(activation[0,:,:, featuremap], interpolation=\"nearest\", vmin=activation_min, cmap=\"gray\")\n",
    "        else:\n",
    "            plt.imshow(activation[0,:,:, featuremap], interpolation=\"nearest\", cmap=\"gray\")"
   ]
  },
  {
   "cell_type": "markdown",
   "metadata": {},
   "source": [
    "### Question 9\n",
    "\n",
    "Discuss how you used the visual output of your trained network's feature maps to show that it had learned to look for interesting characteristics in traffic sign images\n"
   ]
  },
  {
   "cell_type": "markdown",
   "metadata": {},
   "source": [
    "**Answer:**"
   ]
  },
  {
   "cell_type": "markdown",
   "metadata": {},
   "source": [
    "> **Note**: Once you have completed all of the code implementations and successfully answered each question above, you may finalize your work by exporting the iPython Notebook as an HTML document. You can do this by using the menu above and navigating to  \\n\",\n",
    "    \"**File -> Download as -> HTML (.html)**. Include the finished document along with this notebook as your submission."
   ]
  },
  {
   "cell_type": "markdown",
   "metadata": {},
   "source": [
    "### Project Writeup\n",
    "\n",
    "Once you have completed the code implementation, document your results in a project writeup using this [template](https://github.com/udacity/CarND-Traffic-Sign-Classifier-Project/blob/master/writeup_template.md) as a guide. The writeup can be in a markdown or pdf file. "
   ]
  }
 ],
 "metadata": {
  "anaconda-cloud": {},
  "kernelspec": {
   "display_name": "Python 3",
   "language": "python",
   "name": "python3"
  },
  "language_info": {
   "codemirror_mode": {
    "name": "ipython",
    "version": 3
   },
   "file_extension": ".py",
   "mimetype": "text/x-python",
   "name": "python",
   "nbconvert_exporter": "python",
   "pygments_lexer": "ipython3",
   "version": "3.5.3"
  }
 },
 "nbformat": 4,
 "nbformat_minor": 1
}
